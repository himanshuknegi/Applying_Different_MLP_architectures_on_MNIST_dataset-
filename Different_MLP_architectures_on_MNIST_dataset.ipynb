{
  "nbformat": 4,
  "nbformat_minor": 0,
  "metadata": {
    "colab": {
      "name": "Different MLP architectures on MNIST dataset.ipynb",
      "version": "0.3.2",
      "provenance": [],
      "collapsed_sections": []
    },
    "kernelspec": {
      "display_name": "Python 3",
      "language": "python",
      "name": "python3"
    }
  },
  "cells": [
    {
      "metadata": {
        "colab_type": "text",
        "id": "fvyUL-g_R2FI"
      },
      "cell_type": "markdown",
      "source": [
        "# **OBJECTIVE :- Apply different MLP Architectures on MNIST dataset**"
      ]
    },
    {
      "metadata": {
        "colab_type": "code",
        "id": "upBwH0WLFJeq",
        "outputId": "20ce22b5-172a-47b8-f5ad-2ecefc54b260",
        "colab": {
          "base_uri": "https://localhost:8080/",
          "height": 102
        }
      },
      "cell_type": "code",
      "source": [
        "# Importing libraries\n",
        "from keras.utils import np_utils \n",
        "from keras.datasets import mnist \n",
        "import seaborn as sns\n",
        "from keras.initializers import RandomNormal\n",
        "import matplotlib.pyplot as plt\n",
        "%matplotlib inline\n",
        "import numpy as np\n",
        "import time\n",
        "\n",
        "# the data, shuffled and split between train and test sets \n",
        "(X_train, Y_train), (X_test, Y_test) = mnist.load_data()\n",
        "\n",
        "print(\"Number of training examples :\", X_train.shape[0], \"and each image is of shape (%d, %d)\"%(X_train.shape[1], X_train.shape[2]))\n",
        "print(\"Number of test examples :\", X_test.shape[0], \"and each image is of shape (%d, %d)\"%(X_test.shape[1], X_test.shape[2]))"
      ],
      "execution_count": 1,
      "outputs": [
        {
          "output_type": "stream",
          "text": [
            "Using TensorFlow backend.\n"
          ],
          "name": "stderr"
        },
        {
          "output_type": "stream",
          "text": [
            "Downloading data from https://s3.amazonaws.com/img-datasets/mnist.npz\n",
            "11493376/11490434 [==============================] - 1s 0us/step\n",
            "Number of training examples : 60000 and each image is of shape (28, 28)\n",
            "Number of test examples : 10000 and each image is of shape (28, 28)\n"
          ],
          "name": "stdout"
        }
      ]
    },
    {
      "metadata": {
        "colab_type": "code",
        "id": "9ExCg1VGSt1J",
        "outputId": "d72cad0e-f160-4cdc-a91f-37722f145187",
        "colab": {
          "base_uri": "https://localhost:8080/",
          "height": 51
        }
      },
      "cell_type": "code",
      "source": [
        "# if you observe the input shape its 3 dimensional vector\n",
        "# for each image we have a (28*28) vector\n",
        "# we will convert the (28*28) vector into single dimensional vector of 1 * 784 \n",
        "\n",
        "X_train = X_train.reshape(X_train.shape[0], X_train.shape[1]*X_train.shape[2]) \n",
        "X_test = X_test.reshape(X_test.shape[0], X_test.shape[1]*X_test.shape[2]) \n",
        "\n",
        "# after converting the input images from 3d to 2d vectors\n",
        "\n",
        "print(\"Number of training examples :\", X_train.shape[0], \"and each image is of shape (%d)\"%(X_train.shape[1]))\n",
        "print(\"Number of test examples :\", X_test.shape[0], \"and each image is of shape (%d)\"%(X_test.shape[1]))"
      ],
      "execution_count": 2,
      "outputs": [
        {
          "output_type": "stream",
          "text": [
            "Number of training examples : 60000 and each image is of shape (784)\n",
            "Number of test examples : 10000 and each image is of shape (784)\n"
          ],
          "name": "stdout"
        }
      ]
    },
    {
      "metadata": {
        "colab_type": "code",
        "id": "69tziiJPTP29",
        "outputId": "9cecec70-b6bf-44a1-adcf-8a85d4b3a0f1",
        "colab": {
          "base_uri": "https://localhost:8080/",
          "height": 765
        }
      },
      "cell_type": "code",
      "source": [
        "# An example data point\n",
        "print(X_train[0])"
      ],
      "execution_count": 3,
      "outputs": [
        {
          "output_type": "stream",
          "text": [
            "[  0   0   0   0   0   0   0   0   0   0   0   0   0   0   0   0   0   0\n",
            "   0   0   0   0   0   0   0   0   0   0   0   0   0   0   0   0   0   0\n",
            "   0   0   0   0   0   0   0   0   0   0   0   0   0   0   0   0   0   0\n",
            "   0   0   0   0   0   0   0   0   0   0   0   0   0   0   0   0   0   0\n",
            "   0   0   0   0   0   0   0   0   0   0   0   0   0   0   0   0   0   0\n",
            "   0   0   0   0   0   0   0   0   0   0   0   0   0   0   0   0   0   0\n",
            "   0   0   0   0   0   0   0   0   0   0   0   0   0   0   0   0   0   0\n",
            "   0   0   0   0   0   0   0   0   0   0   0   0   0   0   0   0   0   0\n",
            "   0   0   0   0   0   0   0   0   3  18  18  18 126 136 175  26 166 255\n",
            " 247 127   0   0   0   0   0   0   0   0   0   0   0   0  30  36  94 154\n",
            " 170 253 253 253 253 253 225 172 253 242 195  64   0   0   0   0   0   0\n",
            "   0   0   0   0   0  49 238 253 253 253 253 253 253 253 253 251  93  82\n",
            "  82  56  39   0   0   0   0   0   0   0   0   0   0   0   0  18 219 253\n",
            " 253 253 253 253 198 182 247 241   0   0   0   0   0   0   0   0   0   0\n",
            "   0   0   0   0   0   0   0   0  80 156 107 253 253 205  11   0  43 154\n",
            "   0   0   0   0   0   0   0   0   0   0   0   0   0   0   0   0   0   0\n",
            "   0  14   1 154 253  90   0   0   0   0   0   0   0   0   0   0   0   0\n",
            "   0   0   0   0   0   0   0   0   0   0   0   0   0 139 253 190   2   0\n",
            "   0   0   0   0   0   0   0   0   0   0   0   0   0   0   0   0   0   0\n",
            "   0   0   0   0   0  11 190 253  70   0   0   0   0   0   0   0   0   0\n",
            "   0   0   0   0   0   0   0   0   0   0   0   0   0   0   0   0  35 241\n",
            " 225 160 108   1   0   0   0   0   0   0   0   0   0   0   0   0   0   0\n",
            "   0   0   0   0   0   0   0   0   0  81 240 253 253 119  25   0   0   0\n",
            "   0   0   0   0   0   0   0   0   0   0   0   0   0   0   0   0   0   0\n",
            "   0   0  45 186 253 253 150  27   0   0   0   0   0   0   0   0   0   0\n",
            "   0   0   0   0   0   0   0   0   0   0   0   0   0  16  93 252 253 187\n",
            "   0   0   0   0   0   0   0   0   0   0   0   0   0   0   0   0   0   0\n",
            "   0   0   0   0   0   0   0 249 253 249  64   0   0   0   0   0   0   0\n",
            "   0   0   0   0   0   0   0   0   0   0   0   0   0   0  46 130 183 253\n",
            " 253 207   2   0   0   0   0   0   0   0   0   0   0   0   0   0   0   0\n",
            "   0   0   0   0  39 148 229 253 253 253 250 182   0   0   0   0   0   0\n",
            "   0   0   0   0   0   0   0   0   0   0   0   0  24 114 221 253 253 253\n",
            " 253 201  78   0   0   0   0   0   0   0   0   0   0   0   0   0   0   0\n",
            "   0   0  23  66 213 253 253 253 253 198  81   2   0   0   0   0   0   0\n",
            "   0   0   0   0   0   0   0   0   0   0  18 171 219 253 253 253 253 195\n",
            "  80   9   0   0   0   0   0   0   0   0   0   0   0   0   0   0   0   0\n",
            "  55 172 226 253 253 253 253 244 133  11   0   0   0   0   0   0   0   0\n",
            "   0   0   0   0   0   0   0   0   0   0 136 253 253 253 212 135 132  16\n",
            "   0   0   0   0   0   0   0   0   0   0   0   0   0   0   0   0   0   0\n",
            "   0   0   0   0   0   0   0   0   0   0   0   0   0   0   0   0   0   0\n",
            "   0   0   0   0   0   0   0   0   0   0   0   0   0   0   0   0   0   0\n",
            "   0   0   0   0   0   0   0   0   0   0   0   0   0   0   0   0   0   0\n",
            "   0   0   0   0   0   0   0   0   0   0   0   0   0   0   0   0   0   0\n",
            "   0   0   0   0   0   0   0   0   0   0]\n"
          ],
          "name": "stdout"
        }
      ]
    },
    {
      "metadata": {
        "colab_type": "code",
        "id": "VI7wkmVgTrEb",
        "outputId": "55616afb-207d-46b8-f8fc-c13c79cd5954",
        "colab": {
          "base_uri": "https://localhost:8080/",
          "height": 3349
        }
      },
      "cell_type": "code",
      "source": [
        "# if we observe the above matrix each cell is having a value between 0-255\n",
        "# before we move to apply machine learning algorithms lets try to normalize the data\n",
        "# X => (X - Xmin)/(Xmax-Xmin) = X/255\n",
        "\n",
        "X_train = X_train/255\n",
        "X_test = X_test/255\n",
        "\n",
        "# example data point after normlizing\n",
        "print(X_train[0])"
      ],
      "execution_count": 5,
      "outputs": [
        {
          "output_type": "stream",
          "text": [
            "[0.00000000e+00 0.00000000e+00 0.00000000e+00 0.00000000e+00\n",
            " 0.00000000e+00 0.00000000e+00 0.00000000e+00 0.00000000e+00\n",
            " 0.00000000e+00 0.00000000e+00 0.00000000e+00 0.00000000e+00\n",
            " 0.00000000e+00 0.00000000e+00 0.00000000e+00 0.00000000e+00\n",
            " 0.00000000e+00 0.00000000e+00 0.00000000e+00 0.00000000e+00\n",
            " 0.00000000e+00 0.00000000e+00 0.00000000e+00 0.00000000e+00\n",
            " 0.00000000e+00 0.00000000e+00 0.00000000e+00 0.00000000e+00\n",
            " 0.00000000e+00 0.00000000e+00 0.00000000e+00 0.00000000e+00\n",
            " 0.00000000e+00 0.00000000e+00 0.00000000e+00 0.00000000e+00\n",
            " 0.00000000e+00 0.00000000e+00 0.00000000e+00 0.00000000e+00\n",
            " 0.00000000e+00 0.00000000e+00 0.00000000e+00 0.00000000e+00\n",
            " 0.00000000e+00 0.00000000e+00 0.00000000e+00 0.00000000e+00\n",
            " 0.00000000e+00 0.00000000e+00 0.00000000e+00 0.00000000e+00\n",
            " 0.00000000e+00 0.00000000e+00 0.00000000e+00 0.00000000e+00\n",
            " 0.00000000e+00 0.00000000e+00 0.00000000e+00 0.00000000e+00\n",
            " 0.00000000e+00 0.00000000e+00 0.00000000e+00 0.00000000e+00\n",
            " 0.00000000e+00 0.00000000e+00 0.00000000e+00 0.00000000e+00\n",
            " 0.00000000e+00 0.00000000e+00 0.00000000e+00 0.00000000e+00\n",
            " 0.00000000e+00 0.00000000e+00 0.00000000e+00 0.00000000e+00\n",
            " 0.00000000e+00 0.00000000e+00 0.00000000e+00 0.00000000e+00\n",
            " 0.00000000e+00 0.00000000e+00 0.00000000e+00 0.00000000e+00\n",
            " 0.00000000e+00 0.00000000e+00 0.00000000e+00 0.00000000e+00\n",
            " 0.00000000e+00 0.00000000e+00 0.00000000e+00 0.00000000e+00\n",
            " 0.00000000e+00 0.00000000e+00 0.00000000e+00 0.00000000e+00\n",
            " 0.00000000e+00 0.00000000e+00 0.00000000e+00 0.00000000e+00\n",
            " 0.00000000e+00 0.00000000e+00 0.00000000e+00 0.00000000e+00\n",
            " 0.00000000e+00 0.00000000e+00 0.00000000e+00 0.00000000e+00\n",
            " 0.00000000e+00 0.00000000e+00 0.00000000e+00 0.00000000e+00\n",
            " 0.00000000e+00 0.00000000e+00 0.00000000e+00 0.00000000e+00\n",
            " 0.00000000e+00 0.00000000e+00 0.00000000e+00 0.00000000e+00\n",
            " 0.00000000e+00 0.00000000e+00 0.00000000e+00 0.00000000e+00\n",
            " 0.00000000e+00 0.00000000e+00 0.00000000e+00 0.00000000e+00\n",
            " 0.00000000e+00 0.00000000e+00 0.00000000e+00 0.00000000e+00\n",
            " 0.00000000e+00 0.00000000e+00 0.00000000e+00 0.00000000e+00\n",
            " 0.00000000e+00 0.00000000e+00 0.00000000e+00 0.00000000e+00\n",
            " 0.00000000e+00 0.00000000e+00 0.00000000e+00 0.00000000e+00\n",
            " 0.00000000e+00 0.00000000e+00 0.00000000e+00 0.00000000e+00\n",
            " 0.00000000e+00 0.00000000e+00 0.00000000e+00 0.00000000e+00\n",
            " 4.61361015e-05 2.76816609e-04 2.76816609e-04 2.76816609e-04\n",
            " 1.93771626e-03 2.09150327e-03 2.69127259e-03 3.99846213e-04\n",
            " 2.55286428e-03 3.92156863e-03 3.79853902e-03 1.95309496e-03\n",
            " 0.00000000e+00 0.00000000e+00 0.00000000e+00 0.00000000e+00\n",
            " 0.00000000e+00 0.00000000e+00 0.00000000e+00 0.00000000e+00\n",
            " 0.00000000e+00 0.00000000e+00 0.00000000e+00 0.00000000e+00\n",
            " 4.61361015e-04 5.53633218e-04 1.44559785e-03 2.36831988e-03\n",
            " 2.61437908e-03 3.89081123e-03 3.89081123e-03 3.89081123e-03\n",
            " 3.89081123e-03 3.89081123e-03 3.46020761e-03 2.64513649e-03\n",
            " 3.89081123e-03 3.72164552e-03 2.99884660e-03 9.84236832e-04\n",
            " 0.00000000e+00 0.00000000e+00 0.00000000e+00 0.00000000e+00\n",
            " 0.00000000e+00 0.00000000e+00 0.00000000e+00 0.00000000e+00\n",
            " 0.00000000e+00 0.00000000e+00 0.00000000e+00 7.53556324e-04\n",
            " 3.66013072e-03 3.89081123e-03 3.89081123e-03 3.89081123e-03\n",
            " 3.89081123e-03 3.89081123e-03 3.89081123e-03 3.89081123e-03\n",
            " 3.89081123e-03 3.86005383e-03 1.43021915e-03 1.26105344e-03\n",
            " 1.26105344e-03 8.61207228e-04 5.99769319e-04 0.00000000e+00\n",
            " 0.00000000e+00 0.00000000e+00 0.00000000e+00 0.00000000e+00\n",
            " 0.00000000e+00 0.00000000e+00 0.00000000e+00 0.00000000e+00\n",
            " 0.00000000e+00 0.00000000e+00 0.00000000e+00 2.76816609e-04\n",
            " 3.36793541e-03 3.89081123e-03 3.89081123e-03 3.89081123e-03\n",
            " 3.89081123e-03 3.89081123e-03 3.04498270e-03 2.79892349e-03\n",
            " 3.79853902e-03 3.70626682e-03 0.00000000e+00 0.00000000e+00\n",
            " 0.00000000e+00 0.00000000e+00 0.00000000e+00 0.00000000e+00\n",
            " 0.00000000e+00 0.00000000e+00 0.00000000e+00 0.00000000e+00\n",
            " 0.00000000e+00 0.00000000e+00 0.00000000e+00 0.00000000e+00\n",
            " 0.00000000e+00 0.00000000e+00 0.00000000e+00 0.00000000e+00\n",
            " 1.23029604e-03 2.39907728e-03 1.64552095e-03 3.89081123e-03\n",
            " 3.89081123e-03 3.15263360e-03 1.69165705e-04 0.00000000e+00\n",
            " 6.61284121e-04 2.36831988e-03 0.00000000e+00 0.00000000e+00\n",
            " 0.00000000e+00 0.00000000e+00 0.00000000e+00 0.00000000e+00\n",
            " 0.00000000e+00 0.00000000e+00 0.00000000e+00 0.00000000e+00\n",
            " 0.00000000e+00 0.00000000e+00 0.00000000e+00 0.00000000e+00\n",
            " 0.00000000e+00 0.00000000e+00 0.00000000e+00 0.00000000e+00\n",
            " 0.00000000e+00 2.15301807e-04 1.53787005e-05 2.36831988e-03\n",
            " 3.89081123e-03 1.38408304e-03 0.00000000e+00 0.00000000e+00\n",
            " 0.00000000e+00 0.00000000e+00 0.00000000e+00 0.00000000e+00\n",
            " 0.00000000e+00 0.00000000e+00 0.00000000e+00 0.00000000e+00\n",
            " 0.00000000e+00 0.00000000e+00 0.00000000e+00 0.00000000e+00\n",
            " 0.00000000e+00 0.00000000e+00 0.00000000e+00 0.00000000e+00\n",
            " 0.00000000e+00 0.00000000e+00 0.00000000e+00 0.00000000e+00\n",
            " 0.00000000e+00 0.00000000e+00 0.00000000e+00 2.13763937e-03\n",
            " 3.89081123e-03 2.92195309e-03 3.07574010e-05 0.00000000e+00\n",
            " 0.00000000e+00 0.00000000e+00 0.00000000e+00 0.00000000e+00\n",
            " 0.00000000e+00 0.00000000e+00 0.00000000e+00 0.00000000e+00\n",
            " 0.00000000e+00 0.00000000e+00 0.00000000e+00 0.00000000e+00\n",
            " 0.00000000e+00 0.00000000e+00 0.00000000e+00 0.00000000e+00\n",
            " 0.00000000e+00 0.00000000e+00 0.00000000e+00 0.00000000e+00\n",
            " 0.00000000e+00 0.00000000e+00 0.00000000e+00 1.69165705e-04\n",
            " 2.92195309e-03 3.89081123e-03 1.07650903e-03 0.00000000e+00\n",
            " 0.00000000e+00 0.00000000e+00 0.00000000e+00 0.00000000e+00\n",
            " 0.00000000e+00 0.00000000e+00 0.00000000e+00 0.00000000e+00\n",
            " 0.00000000e+00 0.00000000e+00 0.00000000e+00 0.00000000e+00\n",
            " 0.00000000e+00 0.00000000e+00 0.00000000e+00 0.00000000e+00\n",
            " 0.00000000e+00 0.00000000e+00 0.00000000e+00 0.00000000e+00\n",
            " 0.00000000e+00 0.00000000e+00 0.00000000e+00 0.00000000e+00\n",
            " 5.38254517e-04 3.70626682e-03 3.46020761e-03 2.46059208e-03\n",
            " 1.66089965e-03 1.53787005e-05 0.00000000e+00 0.00000000e+00\n",
            " 0.00000000e+00 0.00000000e+00 0.00000000e+00 0.00000000e+00\n",
            " 0.00000000e+00 0.00000000e+00 0.00000000e+00 0.00000000e+00\n",
            " 0.00000000e+00 0.00000000e+00 0.00000000e+00 0.00000000e+00\n",
            " 0.00000000e+00 0.00000000e+00 0.00000000e+00 0.00000000e+00\n",
            " 0.00000000e+00 0.00000000e+00 0.00000000e+00 0.00000000e+00\n",
            " 0.00000000e+00 1.24567474e-03 3.69088812e-03 3.89081123e-03\n",
            " 3.89081123e-03 1.83006536e-03 3.84467512e-04 0.00000000e+00\n",
            " 0.00000000e+00 0.00000000e+00 0.00000000e+00 0.00000000e+00\n",
            " 0.00000000e+00 0.00000000e+00 0.00000000e+00 0.00000000e+00\n",
            " 0.00000000e+00 0.00000000e+00 0.00000000e+00 0.00000000e+00\n",
            " 0.00000000e+00 0.00000000e+00 0.00000000e+00 0.00000000e+00\n",
            " 0.00000000e+00 0.00000000e+00 0.00000000e+00 0.00000000e+00\n",
            " 0.00000000e+00 0.00000000e+00 6.92041522e-04 2.86043829e-03\n",
            " 3.89081123e-03 3.89081123e-03 2.30680507e-03 4.15224913e-04\n",
            " 0.00000000e+00 0.00000000e+00 0.00000000e+00 0.00000000e+00\n",
            " 0.00000000e+00 0.00000000e+00 0.00000000e+00 0.00000000e+00\n",
            " 0.00000000e+00 0.00000000e+00 0.00000000e+00 0.00000000e+00\n",
            " 0.00000000e+00 0.00000000e+00 0.00000000e+00 0.00000000e+00\n",
            " 0.00000000e+00 0.00000000e+00 0.00000000e+00 0.00000000e+00\n",
            " 0.00000000e+00 0.00000000e+00 0.00000000e+00 2.46059208e-04\n",
            " 1.43021915e-03 3.87543253e-03 3.89081123e-03 2.87581699e-03\n",
            " 0.00000000e+00 0.00000000e+00 0.00000000e+00 0.00000000e+00\n",
            " 0.00000000e+00 0.00000000e+00 0.00000000e+00 0.00000000e+00\n",
            " 0.00000000e+00 0.00000000e+00 0.00000000e+00 0.00000000e+00\n",
            " 0.00000000e+00 0.00000000e+00 0.00000000e+00 0.00000000e+00\n",
            " 0.00000000e+00 0.00000000e+00 0.00000000e+00 0.00000000e+00\n",
            " 0.00000000e+00 0.00000000e+00 0.00000000e+00 0.00000000e+00\n",
            " 0.00000000e+00 3.82929642e-03 3.89081123e-03 3.82929642e-03\n",
            " 9.84236832e-04 0.00000000e+00 0.00000000e+00 0.00000000e+00\n",
            " 0.00000000e+00 0.00000000e+00 0.00000000e+00 0.00000000e+00\n",
            " 0.00000000e+00 0.00000000e+00 0.00000000e+00 0.00000000e+00\n",
            " 0.00000000e+00 0.00000000e+00 0.00000000e+00 0.00000000e+00\n",
            " 0.00000000e+00 0.00000000e+00 0.00000000e+00 0.00000000e+00\n",
            " 0.00000000e+00 0.00000000e+00 7.07420223e-04 1.99923106e-03\n",
            " 2.81430219e-03 3.89081123e-03 3.89081123e-03 3.18339100e-03\n",
            " 3.07574010e-05 0.00000000e+00 0.00000000e+00 0.00000000e+00\n",
            " 0.00000000e+00 0.00000000e+00 0.00000000e+00 0.00000000e+00\n",
            " 0.00000000e+00 0.00000000e+00 0.00000000e+00 0.00000000e+00\n",
            " 0.00000000e+00 0.00000000e+00 0.00000000e+00 0.00000000e+00\n",
            " 0.00000000e+00 0.00000000e+00 0.00000000e+00 0.00000000e+00\n",
            " 5.99769319e-04 2.27604767e-03 3.52172241e-03 3.89081123e-03\n",
            " 3.89081123e-03 3.89081123e-03 3.84467512e-03 2.79892349e-03\n",
            " 0.00000000e+00 0.00000000e+00 0.00000000e+00 0.00000000e+00\n",
            " 0.00000000e+00 0.00000000e+00 0.00000000e+00 0.00000000e+00\n",
            " 0.00000000e+00 0.00000000e+00 0.00000000e+00 0.00000000e+00\n",
            " 0.00000000e+00 0.00000000e+00 0.00000000e+00 0.00000000e+00\n",
            " 0.00000000e+00 0.00000000e+00 3.69088812e-04 1.75317186e-03\n",
            " 3.39869281e-03 3.89081123e-03 3.89081123e-03 3.89081123e-03\n",
            " 3.89081123e-03 3.09111880e-03 1.19953864e-03 0.00000000e+00\n",
            " 0.00000000e+00 0.00000000e+00 0.00000000e+00 0.00000000e+00\n",
            " 0.00000000e+00 0.00000000e+00 0.00000000e+00 0.00000000e+00\n",
            " 0.00000000e+00 0.00000000e+00 0.00000000e+00 0.00000000e+00\n",
            " 0.00000000e+00 0.00000000e+00 0.00000000e+00 0.00000000e+00\n",
            " 3.53710111e-04 1.01499423e-03 3.27566321e-03 3.89081123e-03\n",
            " 3.89081123e-03 3.89081123e-03 3.89081123e-03 3.04498270e-03\n",
            " 1.24567474e-03 3.07574010e-05 0.00000000e+00 0.00000000e+00\n",
            " 0.00000000e+00 0.00000000e+00 0.00000000e+00 0.00000000e+00\n",
            " 0.00000000e+00 0.00000000e+00 0.00000000e+00 0.00000000e+00\n",
            " 0.00000000e+00 0.00000000e+00 0.00000000e+00 0.00000000e+00\n",
            " 0.00000000e+00 0.00000000e+00 2.76816609e-04 2.62975779e-03\n",
            " 3.36793541e-03 3.89081123e-03 3.89081123e-03 3.89081123e-03\n",
            " 3.89081123e-03 2.99884660e-03 1.23029604e-03 1.38408304e-04\n",
            " 0.00000000e+00 0.00000000e+00 0.00000000e+00 0.00000000e+00\n",
            " 0.00000000e+00 0.00000000e+00 0.00000000e+00 0.00000000e+00\n",
            " 0.00000000e+00 0.00000000e+00 0.00000000e+00 0.00000000e+00\n",
            " 0.00000000e+00 0.00000000e+00 0.00000000e+00 0.00000000e+00\n",
            " 8.45828527e-04 2.64513649e-03 3.47558631e-03 3.89081123e-03\n",
            " 3.89081123e-03 3.89081123e-03 3.89081123e-03 3.75240292e-03\n",
            " 2.04536717e-03 1.69165705e-04 0.00000000e+00 0.00000000e+00\n",
            " 0.00000000e+00 0.00000000e+00 0.00000000e+00 0.00000000e+00\n",
            " 0.00000000e+00 0.00000000e+00 0.00000000e+00 0.00000000e+00\n",
            " 0.00000000e+00 0.00000000e+00 0.00000000e+00 0.00000000e+00\n",
            " 0.00000000e+00 0.00000000e+00 0.00000000e+00 0.00000000e+00\n",
            " 2.09150327e-03 3.89081123e-03 3.89081123e-03 3.89081123e-03\n",
            " 3.26028451e-03 2.07612457e-03 2.02998847e-03 2.46059208e-04\n",
            " 0.00000000e+00 0.00000000e+00 0.00000000e+00 0.00000000e+00\n",
            " 0.00000000e+00 0.00000000e+00 0.00000000e+00 0.00000000e+00\n",
            " 0.00000000e+00 0.00000000e+00 0.00000000e+00 0.00000000e+00\n",
            " 0.00000000e+00 0.00000000e+00 0.00000000e+00 0.00000000e+00\n",
            " 0.00000000e+00 0.00000000e+00 0.00000000e+00 0.00000000e+00\n",
            " 0.00000000e+00 0.00000000e+00 0.00000000e+00 0.00000000e+00\n",
            " 0.00000000e+00 0.00000000e+00 0.00000000e+00 0.00000000e+00\n",
            " 0.00000000e+00 0.00000000e+00 0.00000000e+00 0.00000000e+00\n",
            " 0.00000000e+00 0.00000000e+00 0.00000000e+00 0.00000000e+00\n",
            " 0.00000000e+00 0.00000000e+00 0.00000000e+00 0.00000000e+00\n",
            " 0.00000000e+00 0.00000000e+00 0.00000000e+00 0.00000000e+00\n",
            " 0.00000000e+00 0.00000000e+00 0.00000000e+00 0.00000000e+00\n",
            " 0.00000000e+00 0.00000000e+00 0.00000000e+00 0.00000000e+00\n",
            " 0.00000000e+00 0.00000000e+00 0.00000000e+00 0.00000000e+00\n",
            " 0.00000000e+00 0.00000000e+00 0.00000000e+00 0.00000000e+00\n",
            " 0.00000000e+00 0.00000000e+00 0.00000000e+00 0.00000000e+00\n",
            " 0.00000000e+00 0.00000000e+00 0.00000000e+00 0.00000000e+00\n",
            " 0.00000000e+00 0.00000000e+00 0.00000000e+00 0.00000000e+00\n",
            " 0.00000000e+00 0.00000000e+00 0.00000000e+00 0.00000000e+00\n",
            " 0.00000000e+00 0.00000000e+00 0.00000000e+00 0.00000000e+00\n",
            " 0.00000000e+00 0.00000000e+00 0.00000000e+00 0.00000000e+00\n",
            " 0.00000000e+00 0.00000000e+00 0.00000000e+00 0.00000000e+00\n",
            " 0.00000000e+00 0.00000000e+00 0.00000000e+00 0.00000000e+00\n",
            " 0.00000000e+00 0.00000000e+00 0.00000000e+00 0.00000000e+00\n",
            " 0.00000000e+00 0.00000000e+00 0.00000000e+00 0.00000000e+00]\n"
          ],
          "name": "stdout"
        }
      ]
    },
    {
      "metadata": {
        "colab_type": "code",
        "id": "pYHWIFOUUGMy",
        "outputId": "b192fe29-f626-495d-8a8a-0e35a294f1a7",
        "colab": {
          "base_uri": "https://localhost:8080/",
          "height": 51
        }
      },
      "cell_type": "code",
      "source": [
        "# here we are having a class number for each image\n",
        "print(\"Class label of first image :\", Y_train[0])\n",
        "\n",
        "# lets convert this into a 10 dimensional vector\n",
        "# ex: consider an image is 5 convert it into 5 => [0, 0, 0, 0, 0, 1, 0, 0, 0, 0]\n",
        "# this conversion needed for MLPs \n",
        "\n",
        "y_train = np_utils.to_categorical(Y_train, 10) \n",
        "y_test = np_utils.to_categorical(Y_test, 10)\n",
        "\n",
        "print(\"After converting the output into a vector : \",y_train[0])"
      ],
      "execution_count": 6,
      "outputs": [
        {
          "output_type": "stream",
          "text": [
            "Class label of first image : 5\n",
            "After converting the output into a vector :  [0. 0. 0. 0. 0. 1. 0. 0. 0. 0.]\n"
          ],
          "name": "stdout"
        }
      ]
    },
    {
      "metadata": {
        "colab_type": "code",
        "id": "HsYVNxFfUnxs",
        "colab": {}
      },
      "cell_type": "code",
      "source": [
        "# this function is used draw Categorical Crossentropy Loss VS No. of epochs plot\n",
        "def plt_dynamic(x, vy, ty):\n",
        "  plt.figure(figsize=(10,5))\n",
        "  plt.plot(x, vy, 'b', label=\"Validation Loss\")\n",
        "  plt.plot(x, ty, 'r', label=\"Train Loss\")\n",
        "  plt.xlabel('Epochs') \n",
        "  plt.ylabel('Categorical Crossentropy Loss')\n",
        "  plt.title('\\nCategorical Crossentropy Loss VS Epochs')\n",
        "  plt.legend()\n",
        "  plt.grid()\n",
        "  plt.show()"
      ],
      "execution_count": 0,
      "outputs": []
    },
    {
      "metadata": {
        "colab_type": "text",
        "id": "AlR4OOh6WPkF"
      },
      "cell_type": "markdown",
      "source": [
        "## (1). Softmax Classifier with 2 hidden layers"
      ]
    },
    {
      "metadata": {
        "colab_type": "text",
        "id": "ip4ZGo_oWoz9"
      },
      "cell_type": "markdown",
      "source": [
        "### (1.a) Without dropout and Batch normalization"
      ]
    },
    {
      "metadata": {
        "colab_type": "code",
        "id": "AxnDBEbjWnO3",
        "outputId": "d1e73f7c-b8ff-4b1c-95cb-4b844522ec5c",
        "colab": {
          "base_uri": "https://localhost:8080/",
          "height": 1091
        }
      },
      "cell_type": "code",
      "source": [
        "from keras.models import Sequential \n",
        "from keras.layers import Dense, Activation\n",
        "from keras.initializers import he_normal\n",
        "\n",
        "# some model parameters\n",
        "\n",
        "output_dim = 10\n",
        "input_dim = X_train.shape[1]\n",
        "\n",
        "batch_size = 128 \n",
        "nb_epoch = 20\n",
        "\n",
        "# Initialising model\n",
        "model_2 = Sequential()\n",
        "\n",
        "# Adding first hidden layer\n",
        "model_2.add(Dense(512, activation='relu', input_shape=(input_dim,), kernel_initializer=he_normal(seed=None)))\n",
        "\n",
        "# Adding second hidden layer\n",
        "model_2.add(Dense(256, activation='relu', kernel_initializer=he_normal(seed=None)))\n",
        "\n",
        "# Adding output layer\n",
        "model_2.add(Dense(output_dim, activation='softmax'))\n",
        "\n",
        "# Printing model Summary\n",
        "print(\"Model Summary :- \\n\",model_2.summary())\n",
        "\n",
        "# Compiling the model\n",
        "model_2.compile(optimizer='adam', loss='categorical_crossentropy', metrics=['accuracy'])\n",
        "\n",
        "# Fitting the data to the model\n",
        "history_2 = model_2.fit(X_train, y_train, batch_size=batch_size, epochs=nb_epoch, verbose=1, validation_data=(X_test, y_test))"
      ],
      "execution_count": 8,
      "outputs": [
        {
          "output_type": "stream",
          "text": [
            "WARNING:tensorflow:From /usr/local/lib/python3.6/dist-packages/tensorflow/python/framework/op_def_library.py:263: colocate_with (from tensorflow.python.framework.ops) is deprecated and will be removed in a future version.\n",
            "Instructions for updating:\n",
            "Colocations handled automatically by placer.\n",
            "_________________________________________________________________\n",
            "Layer (type)                 Output Shape              Param #   \n",
            "=================================================================\n",
            "dense_1 (Dense)              (None, 512)               401920    \n",
            "_________________________________________________________________\n",
            "dense_2 (Dense)              (None, 256)               131328    \n",
            "_________________________________________________________________\n",
            "dense_3 (Dense)              (None, 10)                2570      \n",
            "=================================================================\n",
            "Total params: 535,818\n",
            "Trainable params: 535,818\n",
            "Non-trainable params: 0\n",
            "_________________________________________________________________\n",
            "Model Summary :- \n",
            " None\n",
            "WARNING:tensorflow:From /usr/local/lib/python3.6/dist-packages/tensorflow/python/ops/math_ops.py:3066: to_int32 (from tensorflow.python.ops.math_ops) is deprecated and will be removed in a future version.\n",
            "Instructions for updating:\n",
            "Use tf.cast instead.\n",
            "Train on 60000 samples, validate on 10000 samples\n",
            "Epoch 1/20\n",
            "60000/60000 [==============================] - 8s 132us/step - loss: 0.8276 - acc: 0.7720 - val_loss: 0.3774 - val_acc: 0.8896\n",
            "Epoch 2/20\n",
            "60000/60000 [==============================] - 7s 123us/step - loss: 0.3455 - acc: 0.8997 - val_loss: 0.3008 - val_acc: 0.9122\n",
            "Epoch 3/20\n",
            "60000/60000 [==============================] - 7s 121us/step - loss: 0.2907 - acc: 0.9147 - val_loss: 0.2613 - val_acc: 0.9213\n",
            "Epoch 4/20\n",
            "60000/60000 [==============================] - 7s 120us/step - loss: 0.2510 - acc: 0.9266 - val_loss: 0.2327 - val_acc: 0.9303\n",
            "Epoch 5/20\n",
            "60000/60000 [==============================] - 7s 120us/step - loss: 0.2174 - acc: 0.9358 - val_loss: 0.2067 - val_acc: 0.9391\n",
            "Epoch 6/20\n",
            "60000/60000 [==============================] - 7s 120us/step - loss: 0.1882 - acc: 0.9445 - val_loss: 0.1868 - val_acc: 0.9446\n",
            "Epoch 7/20\n",
            "60000/60000 [==============================] - 7s 120us/step - loss: 0.1647 - acc: 0.9520 - val_loss: 0.1594 - val_acc: 0.9523\n",
            "Epoch 8/20\n",
            "60000/60000 [==============================] - 7s 120us/step - loss: 0.1457 - acc: 0.9576 - val_loss: 0.1517 - val_acc: 0.9530\n",
            "Epoch 9/20\n",
            "60000/60000 [==============================] - 7s 121us/step - loss: 0.1302 - acc: 0.9618 - val_loss: 0.1327 - val_acc: 0.9594\n",
            "Epoch 10/20\n",
            "60000/60000 [==============================] - 7s 120us/step - loss: 0.1158 - acc: 0.9662 - val_loss: 0.1224 - val_acc: 0.9617\n",
            "Epoch 11/20\n",
            "60000/60000 [==============================] - 7s 119us/step - loss: 0.1030 - acc: 0.9694 - val_loss: 0.1135 - val_acc: 0.9646\n",
            "Epoch 12/20\n",
            "60000/60000 [==============================] - 7s 121us/step - loss: 0.0939 - acc: 0.9722 - val_loss: 0.1117 - val_acc: 0.9674\n",
            "Epoch 13/20\n",
            "60000/60000 [==============================] - 7s 122us/step - loss: 0.0855 - acc: 0.9742 - val_loss: 0.1008 - val_acc: 0.9694\n",
            "Epoch 14/20\n",
            "60000/60000 [==============================] - 7s 120us/step - loss: 0.0766 - acc: 0.9769 - val_loss: 0.0925 - val_acc: 0.9710\n",
            "Epoch 15/20\n",
            "60000/60000 [==============================] - 7s 118us/step - loss: 0.0706 - acc: 0.9788 - val_loss: 0.0936 - val_acc: 0.9711\n",
            "Epoch 16/20\n",
            "60000/60000 [==============================] - 7s 119us/step - loss: 0.0643 - acc: 0.9801 - val_loss: 0.0921 - val_acc: 0.9723\n",
            "Epoch 17/20\n",
            "60000/60000 [==============================] - 7s 120us/step - loss: 0.0590 - acc: 0.9818 - val_loss: 0.0844 - val_acc: 0.9746\n",
            "Epoch 18/20\n",
            "60000/60000 [==============================] - 7s 118us/step - loss: 0.0535 - acc: 0.9841 - val_loss: 0.0808 - val_acc: 0.9746\n",
            "Epoch 19/20\n",
            "60000/60000 [==============================] - 7s 119us/step - loss: 0.0490 - acc: 0.9853 - val_loss: 0.0783 - val_acc: 0.9761\n",
            "Epoch 20/20\n",
            "60000/60000 [==============================] - 7s 120us/step - loss: 0.0439 - acc: 0.9872 - val_loss: 0.0764 - val_acc: 0.9759\n"
          ],
          "name": "stdout"
        }
      ]
    },
    {
      "metadata": {
        "colab_type": "code",
        "id": "3kDgojB6WI8s",
        "outputId": "b7d275f4-cd10-4bec-908d-93416e20153d",
        "colab": {
          "base_uri": "https://localhost:8080/",
          "height": 397
        }
      },
      "cell_type": "code",
      "source": [
        "# Evaluating the model\n",
        "score = model_2.evaluate(X_test, y_test, verbose=0) \n",
        "print('Test score:', score[0]) \n",
        "print('Test accuracy:', score[1])\n",
        "\n",
        "# Test and train accuracy of the model\n",
        "model_2_test = score[1]\n",
        "model_2_train = history_2.history['acc']\n",
        "\n",
        "# Plotting Train and Test Loss VS no. of epochs\n",
        "# list of epoch numbers\n",
        "x = list(range(1,nb_epoch+1))\n",
        "\n",
        "# Validation loss\n",
        "vy = history_2.history['val_loss']\n",
        "# Training loss\n",
        "ty = history_2.history['loss']\n",
        "\n",
        "# Calling the function to draw the plot\n",
        "plt_dynamic(x, vy, ty)"
      ],
      "execution_count": 9,
      "outputs": [
        {
          "output_type": "stream",
          "text": [
            "Test score: 0.07642286013420671\n",
            "Test accuracy: 0.9759\n"
          ],
          "name": "stdout"
        },
        {
          "output_type": "display_data",
          "data": {
            "image/png": "[encoded data removed]",
            "text/plain": [
              "<Figure size 720x360 with 1 Axes>"
            ]
          },
          "metadata": {
            "tags": []
          }
        }
      ]
    },
    {
      "metadata": {
        "colab_type": "text",
        "id": "LzN2ye1RtEeN"
      },
      "cell_type": "markdown",
      "source": [
        "### (1.b) With dropout and Batch Normalization"
      ]
    },
    {
      "metadata": {
        "colab_type": "code",
        "id": "HgRji2-ytM94",
        "outputId": "8888e85f-193a-432b-8bd8-a189b2a17fcd",
        "colab": {
          "base_uri": "https://localhost:8080/",
          "height": 1176
        }
      },
      "cell_type": "code",
      "source": [
        "from keras.layers.normalization import BatchNormalization\n",
        "from keras.layers import Dropout\n",
        "\n",
        "# Initialising model\n",
        "model_2d = Sequential()\n",
        "\n",
        "# Adding first hidden layer\n",
        "model_2d.add(Dense(512, activation='relu', input_shape=(input_dim,), kernel_initializer=he_normal(seed=None)))\n",
        "# Adding Batch Normalization\n",
        "model_2d.add(BatchNormalization())\n",
        "# Adding dropout to first hidden layer\n",
        "model_2d.add(Dropout(0.4))\n",
        "\n",
        "# Adding second hidden layer\n",
        "model_2d.add(Dense(256, activation='relu', kernel_initializer=he_normal(seed=None)))\n",
        "# Adding Batch Normalization\n",
        "model_2d.add(BatchNormalization())\n",
        "# Adding dropout to second hidden layer\n",
        "model_2d.add(Dropout(0.4))\n",
        "\n",
        "# Adding output layer\n",
        "model_2d.add(Dense(output_dim, activation='softmax'))\n",
        "\n",
        "# Printing model Summary\n",
        "print(\"Model Summary :- \\n\",model_2d.summary())\n",
        "\n",
        "# Compiling the model\n",
        "model_2d.compile(optimizer='adam', loss='categorical_crossentropy', metrics=['accuracy'])\n",
        "\n",
        "# Fitting the data to the model\n",
        "history_2d = model_2d.fit(X_train, y_train, batch_size=batch_size, epochs=nb_epoch, verbose=1, validation_data=(X_test, y_test))"
      ],
      "execution_count": 10,
      "outputs": [
        {
          "output_type": "stream",
          "text": [
            "WARNING:tensorflow:From /usr/local/lib/python3.6/dist-packages/keras/backend/tensorflow_backend.py:3445: calling dropout (from tensorflow.python.ops.nn_ops) with keep_prob is deprecated and will be removed in a future version.\n",
            "Instructions for updating:\n",
            "Please use `rate` instead of `keep_prob`. Rate should be set to `rate = 1 - keep_prob`.\n",
            "_________________________________________________________________\n",
            "Layer (type)                 Output Shape              Param #   \n",
            "=================================================================\n",
            "dense_4 (Dense)              (None, 512)               401920    \n",
            "_________________________________________________________________\n",
            "batch_normalization_1 (Batch (None, 512)               2048      \n",
            "_________________________________________________________________\n",
            "dropout_1 (Dropout)          (None, 512)               0         \n",
            "_________________________________________________________________\n",
            "dense_5 (Dense)              (None, 256)               131328    \n",
            "_________________________________________________________________\n",
            "batch_normalization_2 (Batch (None, 256)               1024      \n",
            "_________________________________________________________________\n",
            "dropout_2 (Dropout)          (None, 256)               0         \n",
            "_________________________________________________________________\n",
            "dense_6 (Dense)              (None, 10)                2570      \n",
            "=================================================================\n",
            "Total params: 538,890\n",
            "Trainable params: 537,354\n",
            "Non-trainable params: 1,536\n",
            "_________________________________________________________________\n",
            "Model Summary :- \n",
            " None\n",
            "Train on 60000 samples, validate on 10000 samples\n",
            "Epoch 1/20\n",
            "60000/60000 [==============================] - 14s 229us/step - loss: 0.3672 - acc: 0.8881 - val_loss: 0.1736 - val_acc: 0.9480\n",
            "Epoch 2/20\n",
            "60000/60000 [==============================] - 13s 218us/step - loss: 0.2139 - acc: 0.9354 - val_loss: 0.1216 - val_acc: 0.9627\n",
            "Epoch 3/20\n",
            "60000/60000 [==============================] - 12s 203us/step - loss: 0.1791 - acc: 0.9451 - val_loss: 0.1077 - val_acc: 0.9673\n",
            "Epoch 4/20\n",
            "60000/60000 [==============================] - 12s 203us/step - loss: 0.1575 - acc: 0.9523 - val_loss: 0.1018 - val_acc: 0.9676\n",
            "Epoch 5/20\n",
            "60000/60000 [==============================] - 12s 201us/step - loss: 0.1469 - acc: 0.9544 - val_loss: 0.0884 - val_acc: 0.9717\n",
            "Epoch 6/20\n",
            "60000/60000 [==============================] - 12s 202us/step - loss: 0.1414 - acc: 0.9567 - val_loss: 0.1041 - val_acc: 0.9669\n",
            "Epoch 7/20\n",
            "60000/60000 [==============================] - 12s 200us/step - loss: 0.1328 - acc: 0.9585 - val_loss: 0.0933 - val_acc: 0.9722\n",
            "Epoch 8/20\n",
            "60000/60000 [==============================] - 12s 194us/step - loss: 0.1296 - acc: 0.9600 - val_loss: 0.0903 - val_acc: 0.9726\n",
            "Epoch 9/20\n",
            "60000/60000 [==============================] - 11s 187us/step - loss: 0.1275 - acc: 0.9601 - val_loss: 0.0869 - val_acc: 0.9738\n",
            "Epoch 10/20\n",
            "60000/60000 [==============================] - 12s 201us/step - loss: 0.1262 - acc: 0.9614 - val_loss: 0.0755 - val_acc: 0.9762\n",
            "Epoch 11/20\n",
            "60000/60000 [==============================] - 12s 198us/step - loss: 0.1248 - acc: 0.9611 - val_loss: 0.0790 - val_acc: 0.9753\n",
            "Epoch 12/20\n",
            "60000/60000 [==============================] - 11s 190us/step - loss: 0.1143 - acc: 0.9640 - val_loss: 0.0789 - val_acc: 0.9771\n",
            "Epoch 13/20\n",
            "60000/60000 [==============================] - 11s 191us/step - loss: 0.1137 - acc: 0.9650 - val_loss: 0.0746 - val_acc: 0.9760\n",
            "Epoch 14/20\n",
            "60000/60000 [==============================] - 11s 182us/step - loss: 0.1100 - acc: 0.9658 - val_loss: 0.0697 - val_acc: 0.9797\n",
            "Epoch 15/20\n",
            "60000/60000 [==============================] - 11s 186us/step - loss: 0.1105 - acc: 0.9648 - val_loss: 0.0701 - val_acc: 0.9784\n",
            "Epoch 16/20\n",
            "60000/60000 [==============================] - 12s 192us/step - loss: 0.1079 - acc: 0.9658 - val_loss: 0.0747 - val_acc: 0.9775\n",
            "Epoch 17/20\n",
            "60000/60000 [==============================] - 11s 189us/step - loss: 0.1043 - acc: 0.9676 - val_loss: 0.0722 - val_acc: 0.9788\n",
            "Epoch 18/20\n",
            "60000/60000 [==============================] - 11s 184us/step - loss: 0.1027 - acc: 0.9674 - val_loss: 0.0730 - val_acc: 0.9788\n",
            "Epoch 19/20\n",
            "60000/60000 [==============================] - 12s 195us/step - loss: 0.1037 - acc: 0.9678 - val_loss: 0.0625 - val_acc: 0.9804\n",
            "Epoch 20/20\n",
            "60000/60000 [==============================] - 11s 191us/step - loss: 0.0995 - acc: 0.9690 - val_loss: 0.0767 - val_acc: 0.9764\n"
          ],
          "name": "stdout"
        }
      ]
    },
    {
      "metadata": {
        "colab_type": "code",
        "id": "DPrmVlkevQI6",
        "outputId": "cc768471-0aab-48dd-97e3-d09500f29f73",
        "colab": {
          "base_uri": "https://localhost:8080/",
          "height": 397
        }
      },
      "cell_type": "code",
      "source": [
        "# Evaluating the model\n",
        "score = model_2d.evaluate(X_test, y_test, verbose=0) \n",
        "print('Test score:', score[0]) \n",
        "print('Test accuracy:', score[1])\n",
        "\n",
        "# Test and train accuracy of the model\n",
        "model_2d_test = score[1]\n",
        "model_2d_train = history_2d.history['acc']\n",
        "\n",
        "# Plotting Train and Test Loss VS no. of epochs\n",
        "# list of epoch numbers\n",
        "x = list(range(1,nb_epoch+1))\n",
        "\n",
        "# Validation loss\n",
        "vy = history_2d.history['val_loss']\n",
        "# Training loss\n",
        "ty = history_2d.history['loss']\n",
        "\n",
        "# Calling the function to draw the plot\n",
        "plt_dynamic(x, vy, ty)"
      ],
      "execution_count": 12,
      "outputs": [
        {
          "output_type": "stream",
          "text": [
            "Test score: 0.07667584380609915\n",
            "Test accuracy: 0.9764\n"
          ],
          "name": "stdout"
        },
        {
          "output_type": "display_data",
          "data": {
            "image/png": "[encoded data removed]",
            "text/plain": [
              "<Figure size 720x360 with 1 Axes>"
            ]
          },
          "metadata": {
            "tags": []
          }
        }
      ]
    },
    {
      "metadata": {
        "colab_type": "text",
        "id": "j2eF9IYCv5aw"
      },
      "cell_type": "markdown",
      "source": [
        "## (2). Softmax Classifier with 3  hidden layers"
      ]
    },
    {
      "metadata": {
        "colab_type": "text",
        "id": "g3EeTb5HwFEa"
      },
      "cell_type": "markdown",
      "source": [
        "### (2.a) Without Dropout and Batch Normalization"
      ]
    },
    {
      "metadata": {
        "colab_type": "code",
        "id": "8lDfIZD7wODA",
        "outputId": "df8514d8-6f26-484a-ba7b-63bb694e3dd5",
        "colab": {
          "base_uri": "https://localhost:8080/",
          "height": 986
        }
      },
      "cell_type": "code",
      "source": [
        "# Initialising model\n",
        "model_3 = Sequential()\n",
        "\n",
        "# Adding first hidden layer\n",
        "model_3.add(Dense(512, activation='relu', input_shape=(input_dim,), kernel_initializer=he_normal(seed=None)))\n",
        "\n",
        "# Adding second hidden layer\n",
        "model_3.add(Dense(256, activation='relu', kernel_initializer=he_normal(seed=None)))\n",
        "\n",
        "# Adding third hidden layer\n",
        "model_3.add(Dense(128, activation='relu', kernel_initializer=he_normal(seed=None)))\n",
        "\n",
        "# Adding output layer\n",
        "model_3.add(Dense(output_dim, activation='softmax'))\n",
        "\n",
        "# Printing model Summary\n",
        "print(model_3.summary())\n",
        "\n",
        "# Compiling the model\n",
        "model_3.compile(optimizer='adam', loss='categorical_crossentropy', metrics=['accuracy'])\n",
        "\n",
        "# Fitting the data to the model\n",
        "history_3 = model_3.fit(X_train, y_train, batch_size=batch_size, epochs=nb_epoch, verbose=1, validation_data=(X_test, y_test))"
      ],
      "execution_count": 13,
      "outputs": [
        {
          "output_type": "stream",
          "text": [
            "_________________________________________________________________\n",
            "Layer (type)                 Output Shape              Param #   \n",
            "=================================================================\n",
            "dense_7 (Dense)              (None, 512)               401920    \n",
            "_________________________________________________________________\n",
            "dense_8 (Dense)              (None, 256)               131328    \n",
            "_________________________________________________________________\n",
            "dense_9 (Dense)              (None, 128)               32896     \n",
            "_________________________________________________________________\n",
            "dense_10 (Dense)             (None, 10)                1290      \n",
            "=================================================================\n",
            "Total params: 567,434\n",
            "Trainable params: 567,434\n",
            "Non-trainable params: 0\n",
            "_________________________________________________________________\n",
            "None\n",
            "Train on 60000 samples, validate on 10000 samples\n",
            "Epoch 1/20\n",
            "60000/60000 [==============================] - 11s 187us/step - loss: 0.7319 - acc: 0.7790 - val_loss: 0.3602 - val_acc: 0.8931\n",
            "Epoch 2/20\n",
            "60000/60000 [==============================] - 11s 179us/step - loss: 0.3282 - acc: 0.9025 - val_loss: 0.2890 - val_acc: 0.9137\n",
            "Epoch 3/20\n",
            "60000/60000 [==============================] - 11s 181us/step - loss: 0.2564 - acc: 0.9239 - val_loss: 0.2298 - val_acc: 0.9279\n",
            "Epoch 4/20\n",
            "60000/60000 [==============================] - 10s 172us/step - loss: 0.2048 - acc: 0.9384 - val_loss: 0.1779 - val_acc: 0.9459\n",
            "Epoch 5/20\n",
            "60000/60000 [==============================] - 11s 182us/step - loss: 0.1654 - acc: 0.9505 - val_loss: 0.1503 - val_acc: 0.9540\n",
            "Epoch 6/20\n",
            "60000/60000 [==============================] - 10s 172us/step - loss: 0.1374 - acc: 0.9585 - val_loss: 0.1259 - val_acc: 0.9617\n",
            "Epoch 7/20\n",
            "60000/60000 [==============================] - 10s 171us/step - loss: 0.1156 - acc: 0.9656 - val_loss: 0.1206 - val_acc: 0.9635\n",
            "Epoch 8/20\n",
            "60000/60000 [==============================] - 10s 171us/step - loss: 0.1000 - acc: 0.9700 - val_loss: 0.1032 - val_acc: 0.9676\n",
            "Epoch 9/20\n",
            "60000/60000 [==============================] - 10s 172us/step - loss: 0.0872 - acc: 0.9736 - val_loss: 0.0944 - val_acc: 0.9712\n",
            "Epoch 10/20\n",
            "60000/60000 [==============================] - 10s 172us/step - loss: 0.0761 - acc: 0.9765 - val_loss: 0.0901 - val_acc: 0.9730\n",
            "Epoch 11/20\n",
            "60000/60000 [==============================] - 10s 169us/step - loss: 0.0677 - acc: 0.9793 - val_loss: 0.0842 - val_acc: 0.9731\n",
            "Epoch 12/20\n",
            "60000/60000 [==============================] - 10s 170us/step - loss: 0.0592 - acc: 0.9817 - val_loss: 0.0806 - val_acc: 0.9756\n",
            "Epoch 13/20\n",
            "60000/60000 [==============================] - 10s 170us/step - loss: 0.0523 - acc: 0.9838 - val_loss: 0.0779 - val_acc: 0.9756\n",
            "Epoch 14/20\n",
            "60000/60000 [==============================] - 10s 171us/step - loss: 0.0460 - acc: 0.9857 - val_loss: 0.0816 - val_acc: 0.9754\n",
            "Epoch 15/20\n",
            "60000/60000 [==============================] - 11s 176us/step - loss: 0.0423 - acc: 0.9863 - val_loss: 0.0786 - val_acc: 0.9768\n",
            "Epoch 16/20\n",
            "60000/60000 [==============================] - 11s 178us/step - loss: 0.0370 - acc: 0.9881 - val_loss: 0.0816 - val_acc: 0.9750\n",
            "Epoch 17/20\n",
            "60000/60000 [==============================] - 11s 175us/step - loss: 0.0312 - acc: 0.9906 - val_loss: 0.0796 - val_acc: 0.9764\n",
            "Epoch 18/20\n",
            "60000/60000 [==============================] - 11s 178us/step - loss: 0.0288 - acc: 0.9907 - val_loss: 0.0746 - val_acc: 0.9774\n",
            "Epoch 19/20\n",
            "60000/60000 [==============================] - 11s 179us/step - loss: 0.0275 - acc: 0.9913 - val_loss: 0.0851 - val_acc: 0.9747\n",
            "Epoch 20/20\n",
            "60000/60000 [==============================] - 11s 180us/step - loss: 0.0237 - acc: 0.9925 - val_loss: 0.0804 - val_acc: 0.9771\n"
          ],
          "name": "stdout"
        }
      ]
    },
    {
      "metadata": {
        "colab_type": "code",
        "id": "wngcfPIIxt_P",
        "outputId": "dc25b0fb-7a40-421f-bb0b-66091c27a29c",
        "colab": {
          "base_uri": "https://localhost:8080/",
          "height": 397
        }
      },
      "cell_type": "code",
      "source": [
        "# Evaluating the model\n",
        "score = model_3.evaluate(X_test, y_test, verbose=0) \n",
        "print('Test score:', score[0]) \n",
        "print('Test accuracy:', score[1])\n",
        "\n",
        "# Test and train accuracy of the model\n",
        "model_3_test = score[1]\n",
        "model_3_train = history_3.history['acc']\n",
        "\n",
        "# Plotting Train and Test Loss VS no. of epochs\n",
        "# list of epoch numbers\n",
        "x = list(range(1,nb_epoch+1))\n",
        "\n",
        "# Validation loss\n",
        "vy = history_3.history['val_loss']\n",
        "# Training loss\n",
        "ty = history_3.history['loss']\n",
        "\n",
        "# Calling the function to draw the plot\n",
        "plt_dynamic(x, vy, ty)"
      ],
      "execution_count": 14,
      "outputs": [
        {
          "output_type": "stream",
          "text": [
            "Test score: 0.08041134356782713\n",
            "Test accuracy: 0.9771\n"
          ],
          "name": "stdout"
        },
        {
          "output_type": "display_data",
          "data": {
            "image/png": "[encoded data removed]",
            "text/plain": [
              "<Figure size 720x360 with 1 Axes>"
            ]
          },
          "metadata": {
            "tags": []
          }
        }
      ]
    },
    {
      "metadata": {
        "colab_type": "text",
        "id": "0mw99MGvyTzh"
      },
      "cell_type": "markdown",
      "source": [
        "### (2.b) With Droput and Batch Normalization"
      ]
    },
    {
      "metadata": {
        "colab_type": "code",
        "id": "LzBcSCOzya4u",
        "outputId": "d876dd37-a6fc-4340-d2c0-63914beff4d3",
        "colab": {
          "base_uri": "https://localhost:8080/",
          "height": 1190
        }
      },
      "cell_type": "code",
      "source": [
        "model_3d = Sequential()\n",
        "\n",
        "# Adding first hidden layer\n",
        "model_3d.add(Dense(512, activation='relu', input_shape=(input_dim,), kernel_initializer=he_normal(seed=None)))\n",
        "# Adding Batch Normalization\n",
        "model_3d.add(BatchNormalization())\n",
        "# Adding dropout\n",
        "model_3d.add(Dropout(0.4))\n",
        "\n",
        "# Adding second hidden layer\n",
        "model_3d.add(Dense(256, activation='relu', kernel_initializer=he_normal(seed=None)))\n",
        "# Adding Batch Normalization\n",
        "model_3d.add(BatchNormalization())\n",
        "# Adding dropout\n",
        "model_3d.add(Dropout(0.4))\n",
        "\n",
        "# Adding third hidden layer\n",
        "model_3d.add(Dense(128, activation='relu', kernel_initializer=he_normal(seed=None)))\n",
        "# Adding Batch Normalization\n",
        "model_3d.add(BatchNormalization())\n",
        "# Adding dropout\n",
        "model_3d.add(Dropout(0.4))\n",
        "\n",
        "# Adding output layer\n",
        "model_3d.add(Dense(output_dim, activation='softmax'))\n",
        "\n",
        "# Printing model Summary\n",
        "print(model_3d.summary())\n",
        "\n",
        "# Compiling the model\n",
        "model_3d.compile(optimizer='adam', loss='categorical_crossentropy', metrics=['accuracy'])\n",
        "\n",
        "# Fitting the data to the model\n",
        "history_3d = model_3d.fit(X_train, y_train, batch_size=batch_size, epochs=nb_epoch, verbose=1, validation_data=(X_test, y_test))\n"
      ],
      "execution_count": 15,
      "outputs": [
        {
          "output_type": "stream",
          "text": [
            "_________________________________________________________________\n",
            "Layer (type)                 Output Shape              Param #   \n",
            "=================================================================\n",
            "dense_11 (Dense)             (None, 512)               401920    \n",
            "_________________________________________________________________\n",
            "batch_normalization_3 (Batch (None, 512)               2048      \n",
            "_________________________________________________________________\n",
            "dropout_3 (Dropout)          (None, 512)               0         \n",
            "_________________________________________________________________\n",
            "dense_12 (Dense)             (None, 256)               131328    \n",
            "_________________________________________________________________\n",
            "batch_normalization_4 (Batch (None, 256)               1024      \n",
            "_________________________________________________________________\n",
            "dropout_4 (Dropout)          (None, 256)               0         \n",
            "_________________________________________________________________\n",
            "dense_13 (Dense)             (None, 128)               32896     \n",
            "_________________________________________________________________\n",
            "batch_normalization_5 (Batch (None, 128)               512       \n",
            "_________________________________________________________________\n",
            "dropout_5 (Dropout)          (None, 128)               0         \n",
            "_________________________________________________________________\n",
            "dense_14 (Dense)             (None, 10)                1290      \n",
            "=================================================================\n",
            "Total params: 571,018\n",
            "Trainable params: 569,226\n",
            "Non-trainable params: 1,792\n",
            "_________________________________________________________________\n",
            "None\n",
            "Train on 60000 samples, validate on 10000 samples\n",
            "Epoch 1/20\n",
            "60000/60000 [==============================] - 13s 225us/step - loss: 0.4926 - acc: 0.8490 - val_loss: 0.1797 - val_acc: 0.9451\n",
            "Epoch 2/20\n",
            "60000/60000 [==============================] - 12s 198us/step - loss: 0.2733 - acc: 0.9176 - val_loss: 0.1389 - val_acc: 0.9561\n",
            "Epoch 3/20\n",
            "60000/60000 [==============================] - 12s 200us/step - loss: 0.2253 - acc: 0.9319 - val_loss: 0.1387 - val_acc: 0.9557\n",
            "Epoch 4/20\n",
            "60000/60000 [==============================] - 12s 207us/step - loss: 0.1986 - acc: 0.9391 - val_loss: 0.1084 - val_acc: 0.9660\n",
            "Epoch 5/20\n",
            "60000/60000 [==============================] - 12s 200us/step - loss: 0.1800 - acc: 0.9454 - val_loss: 0.0997 - val_acc: 0.9699\n",
            "Epoch 6/20\n",
            "60000/60000 [==============================] - 13s 216us/step - loss: 0.1655 - acc: 0.9482 - val_loss: 0.0973 - val_acc: 0.9691\n",
            "Epoch 7/20\n",
            "60000/60000 [==============================] - 13s 210us/step - loss: 0.1628 - acc: 0.9503 - val_loss: 0.0925 - val_acc: 0.9698\n",
            "Epoch 8/20\n",
            "60000/60000 [==============================] - 12s 205us/step - loss: 0.1466 - acc: 0.9549 - val_loss: 0.0996 - val_acc: 0.9666\n",
            "Epoch 9/20\n",
            "60000/60000 [==============================] - 12s 203us/step - loss: 0.1444 - acc: 0.9556 - val_loss: 0.0894 - val_acc: 0.9720\n",
            "Epoch 10/20\n",
            "60000/60000 [==============================] - 12s 200us/step - loss: 0.1391 - acc: 0.9566 - val_loss: 0.0793 - val_acc: 0.9767\n",
            "Epoch 11/20\n",
            "60000/60000 [==============================] - 12s 201us/step - loss: 0.1343 - acc: 0.9587 - val_loss: 0.0773 - val_acc: 0.9756\n",
            "Epoch 12/20\n",
            "60000/60000 [==============================] - 12s 195us/step - loss: 0.1340 - acc: 0.9587 - val_loss: 0.0749 - val_acc: 0.9761\n",
            "Epoch 13/20\n",
            "60000/60000 [==============================] - 12s 201us/step - loss: 0.1280 - acc: 0.9600 - val_loss: 0.0821 - val_acc: 0.9749\n",
            "Epoch 14/20\n",
            "60000/60000 [==============================] - 12s 193us/step - loss: 0.1261 - acc: 0.9607 - val_loss: 0.0772 - val_acc: 0.9744\n",
            "Epoch 15/20\n",
            "60000/60000 [==============================] - 12s 204us/step - loss: 0.1250 - acc: 0.9608 - val_loss: 0.0709 - val_acc: 0.9768\n",
            "Epoch 16/20\n",
            "60000/60000 [==============================] - 12s 208us/step - loss: 0.1201 - acc: 0.9619 - val_loss: 0.0715 - val_acc: 0.9776\n",
            "Epoch 17/20\n",
            "60000/60000 [==============================] - 12s 207us/step - loss: 0.1176 - acc: 0.9638 - val_loss: 0.0671 - val_acc: 0.9794\n",
            "Epoch 18/20\n",
            "60000/60000 [==============================] - 12s 208us/step - loss: 0.1152 - acc: 0.9642 - val_loss: 0.0665 - val_acc: 0.9785\n",
            "Epoch 19/20\n",
            "60000/60000 [==============================] - 12s 205us/step - loss: 0.1115 - acc: 0.9649 - val_loss: 0.0692 - val_acc: 0.9774\n",
            "Epoch 20/20\n",
            "60000/60000 [==============================] - 13s 209us/step - loss: 0.1134 - acc: 0.9644 - val_loss: 0.0695 - val_acc: 0.9780\n"
          ],
          "name": "stdout"
        }
      ]
    },
    {
      "metadata": {
        "colab_type": "code",
        "id": "B-l0po1MzbrX",
        "outputId": "f374090a-1f68-4202-9cc9-6935496f81ed",
        "colab": {
          "base_uri": "https://localhost:8080/",
          "height": 397
        }
      },
      "cell_type": "code",
      "source": [
        "# Evaluating the model\n",
        "score = model_3d.evaluate(X_test, y_test, verbose=0) \n",
        "print('Test score:', score[0]) \n",
        "print('Test accuracy:', score[1])\n",
        "\n",
        "# Test and train accuracy of the model\n",
        "model_3d_test = score[1]\n",
        "model_3d_train = history_3d.history['acc']\n",
        "\n",
        "# Plotting Train and Test Loss VS no. of epochs\n",
        "# list of epoch numbers\n",
        "x = list(range(1,nb_epoch+1))\n",
        "\n",
        "# Validation loss\n",
        "vy = history_3d.history['val_loss']\n",
        "# Training loss\n",
        "ty = history_3d.history['loss']\n",
        "\n",
        "# Calling the function to draw the plot\n",
        "plt_dynamic(x, vy, ty)"
      ],
      "execution_count": 16,
      "outputs": [
        {
          "output_type": "stream",
          "text": [
            "Test score: 0.06945714832819067\n",
            "Test accuracy: 0.978\n"
          ],
          "name": "stdout"
        },
        {
          "output_type": "display_data",
          "data": {
            "image/png": "[encoded data removed]",
            "text/plain": [
              "<Figure size 720x360 with 1 Axes>"
            ]
          },
          "metadata": {
            "tags": []
          }
        }
      ]
    },
    {
      "metadata": {
        "colab_type": "text",
        "id": "3XMI82dEzmFT"
      },
      "cell_type": "markdown",
      "source": [
        "## (3). Softmax Classifier with 5 hidden layers "
      ]
    },
    {
      "metadata": {
        "colab_type": "text",
        "id": "6rebTcnczvb6"
      },
      "cell_type": "markdown",
      "source": [
        "(3.a) Without Dropout and Batch Normalization"
      ]
    },
    {
      "metadata": {
        "colab_type": "code",
        "id": "MkgDGRHaz4K5",
        "outputId": "3913cee0-9bff-4b50-846d-bcc6e9bbd352",
        "colab": {
          "base_uri": "https://localhost:8080/",
          "height": 1054
        }
      },
      "cell_type": "code",
      "source": [
        "# Initialising model\n",
        "model_5 = Sequential()\n",
        "\n",
        "# Adding first hidden layer\n",
        "model_5.add(Dense(512, activation='relu', input_shape=(input_dim,), kernel_initializer=he_normal(seed=None)))\n",
        "\n",
        "# Adding second hidden layer\n",
        "model_5.add(Dense(256, activation='relu', kernel_initializer=he_normal(seed=None)))\n",
        "\n",
        "# Adding third hidden layer\n",
        "model_5.add(Dense(128, activation='relu', kernel_initializer=he_normal(seed=None)))\n",
        "\n",
        "# Adding fourth hidden layer\n",
        "model_5.add(Dense(64, activation='relu', kernel_initializer=he_normal(seed=None)))\n",
        "\n",
        "# Adding fifth hidden layer\n",
        "model_5.add(Dense(32, activation='relu', kernel_initializer=he_normal(seed=None)))\n",
        "\n",
        "# Adding output layer\n",
        "model_5.add(Dense(output_dim, activation='softmax'))\n",
        "\n",
        "# Printing model Summary\n",
        "print(model_5.summary())\n",
        "\n",
        "# Compiling the model\n",
        "model_5.compile(optimizer='adam', loss='categorical_crossentropy', metrics=['accuracy'])\n",
        "\n",
        "# Fitting the data to the model\n",
        "history_5 = model_5.fit(X_train, y_train, batch_size=batch_size, epochs=nb_epoch, verbose=1, validation_data=(X_test, y_test))"
      ],
      "execution_count": 17,
      "outputs": [
        {
          "output_type": "stream",
          "text": [
            "_________________________________________________________________\n",
            "Layer (type)                 Output Shape              Param #   \n",
            "=================================================================\n",
            "dense_15 (Dense)             (None, 512)               401920    \n",
            "_________________________________________________________________\n",
            "dense_16 (Dense)             (None, 256)               131328    \n",
            "_________________________________________________________________\n",
            "dense_17 (Dense)             (None, 128)               32896     \n",
            "_________________________________________________________________\n",
            "dense_18 (Dense)             (None, 64)                8256      \n",
            "_________________________________________________________________\n",
            "dense_19 (Dense)             (None, 32)                2080      \n",
            "_________________________________________________________________\n",
            "dense_20 (Dense)             (None, 10)                330       \n",
            "=================================================================\n",
            "Total params: 576,810\n",
            "Trainable params: 576,810\n",
            "Non-trainable params: 0\n",
            "_________________________________________________________________\n",
            "None\n",
            "Train on 60000 samples, validate on 10000 samples\n",
            "Epoch 1/20\n",
            "60000/60000 [==============================] - 12s 192us/step - loss: 0.8731 - acc: 0.7113 - val_loss: 0.4438 - val_acc: 0.8727\n",
            "Epoch 2/20\n",
            "60000/60000 [==============================] - 11s 180us/step - loss: 0.3234 - acc: 0.9059 - val_loss: 0.2611 - val_acc: 0.9229\n",
            "Epoch 3/20\n",
            "60000/60000 [==============================] - 11s 182us/step - loss: 0.2123 - acc: 0.9378 - val_loss: 0.1829 - val_acc: 0.9456\n",
            "Epoch 4/20\n",
            "60000/60000 [==============================] - 11s 180us/step - loss: 0.1610 - acc: 0.9521 - val_loss: 0.1379 - val_acc: 0.9589\n",
            "Epoch 5/20\n",
            "60000/60000 [==============================] - 11s 176us/step - loss: 0.1254 - acc: 0.9620 - val_loss: 0.1246 - val_acc: 0.9621\n",
            "Epoch 6/20\n",
            "60000/60000 [==============================] - 11s 178us/step - loss: 0.1055 - acc: 0.9674 - val_loss: 0.1105 - val_acc: 0.9659\n",
            "Epoch 7/20\n",
            "60000/60000 [==============================] - 11s 181us/step - loss: 0.0903 - acc: 0.9731 - val_loss: 0.1066 - val_acc: 0.9695\n",
            "Epoch 8/20\n",
            "60000/60000 [==============================] - 10s 171us/step - loss: 0.0793 - acc: 0.9753 - val_loss: 0.1072 - val_acc: 0.9662\n",
            "Epoch 9/20\n",
            "60000/60000 [==============================] - 11s 184us/step - loss: 0.0716 - acc: 0.9778 - val_loss: 0.1158 - val_acc: 0.9657\n",
            "Epoch 10/20\n",
            "60000/60000 [==============================] - 11s 186us/step - loss: 0.0606 - acc: 0.9812 - val_loss: 0.1062 - val_acc: 0.9683\n",
            "Epoch 11/20\n",
            "60000/60000 [==============================] - 11s 184us/step - loss: 0.0536 - acc: 0.9832 - val_loss: 0.0847 - val_acc: 0.9732\n",
            "Epoch 12/20\n",
            "60000/60000 [==============================] - 11s 185us/step - loss: 0.0490 - acc: 0.9845 - val_loss: 0.0822 - val_acc: 0.9765\n",
            "Epoch 13/20\n",
            "60000/60000 [==============================] - 11s 185us/step - loss: 0.0429 - acc: 0.9856 - val_loss: 0.0879 - val_acc: 0.9756\n",
            "Epoch 14/20\n",
            "60000/60000 [==============================] - 11s 175us/step - loss: 0.0411 - acc: 0.9865 - val_loss: 0.0967 - val_acc: 0.9753\n",
            "Epoch 15/20\n",
            "60000/60000 [==============================] - 11s 176us/step - loss: 0.0353 - acc: 0.9888 - val_loss: 0.0875 - val_acc: 0.9766\n",
            "Epoch 16/20\n",
            "60000/60000 [==============================] - 11s 177us/step - loss: 0.0334 - acc: 0.9892 - val_loss: 0.0915 - val_acc: 0.9761\n",
            "Epoch 17/20\n",
            "60000/60000 [==============================] - 11s 183us/step - loss: 0.0295 - acc: 0.9900 - val_loss: 0.0871 - val_acc: 0.9770\n",
            "Epoch 18/20\n",
            "60000/60000 [==============================] - 10s 169us/step - loss: 0.0280 - acc: 0.9908 - val_loss: 0.0865 - val_acc: 0.9769\n",
            "Epoch 19/20\n",
            "60000/60000 [==============================] - 10s 167us/step - loss: 0.0288 - acc: 0.9907 - val_loss: 0.1064 - val_acc: 0.9729\n",
            "Epoch 20/20\n",
            "60000/60000 [==============================] - 10s 161us/step - loss: 0.0233 - acc: 0.9921 - val_loss: 0.0884 - val_acc: 0.9783\n"
          ],
          "name": "stdout"
        }
      ]
    },
    {
      "metadata": {
        "colab_type": "code",
        "id": "PgGvMSFc0w7O",
        "outputId": "e4333b28-4722-46ed-f03d-220a3027de7c",
        "colab": {
          "base_uri": "https://localhost:8080/",
          "height": 397
        }
      },
      "cell_type": "code",
      "source": [
        "# Evaluating the model\n",
        "score = model_5.evaluate(X_test, y_test, verbose=0) \n",
        "print('Test score:', score[0]) \n",
        "print('Test accuracy:', score[1])\n",
        "\n",
        "# Test and train accuracy of the model\n",
        "model_5_test = score[1]\n",
        "model_5_train = history_5.history['acc']\n",
        "\n",
        "# Plotting Train and Test Loss VS no. of epochs\n",
        "# list of epoch numbers\n",
        "x = list(range(1,nb_epoch+1))\n",
        "\n",
        "# Validation loss\n",
        "vy = history_5.history['val_loss']\n",
        "# Training loss\n",
        "ty = history_5.history['loss']\n",
        "\n",
        "# Calling the function to draw the plot\n",
        "plt_dynamic(x, vy, ty)"
      ],
      "execution_count": 19,
      "outputs": [
        {
          "output_type": "stream",
          "text": [
            "Test score: 0.08839814674687223\n",
            "Test accuracy: 0.9783\n"
          ],
          "name": "stdout"
        },
        {
          "output_type": "display_data",
          "data": {
            "image/png": "[encoded data removed]",
            "text/plain": [
              "<Figure size 720x360 with 1 Axes>"
            ]
          },
          "metadata": {
            "tags": []
          }
        }
      ]
    },
    {
      "metadata": {
        "colab_type": "text",
        "id": "-yxNW_yy1MmN"
      },
      "cell_type": "markdown",
      "source": [
        "### (3.b) With Dropout and Batch Normalisation"
      ]
    },
    {
      "metadata": {
        "colab_type": "code",
        "id": "HuBGfwwN1TKA",
        "outputId": "5513cab7-4d7d-4f69-c89f-8fb9be6d36f5",
        "colab": {
          "base_uri": "https://localhost:8080/",
          "height": 1394
        }
      },
      "cell_type": "code",
      "source": [
        "# Initialising model\n",
        "model_5d = Sequential()\n",
        "\n",
        "# Adding first hidden layer\n",
        "model_5d.add(Dense(512, activation='relu', input_shape=(input_dim,), kernel_initializer=he_normal(seed=None)))\n",
        "# Adding Batch Normalization\n",
        "model_5d.add(BatchNormalization())\n",
        "# Adding dropout\n",
        "model_5d.add(Dropout(0.4))\n",
        "\n",
        "# Adding second hidden layer\n",
        "model_5d.add(Dense(256, activation='relu', kernel_initializer=he_normal(seed=None)))\n",
        "# Adding Batch Normalization\n",
        "model_5d.add(BatchNormalization())\n",
        "# Adding dropout\n",
        "model_5d.add(Dropout(0.4))\n",
        "\n",
        "# Adding third hidden layer\n",
        "model_5d.add(Dense(128, activation='relu', kernel_initializer=he_normal(seed=None)))\n",
        "# Adding Batch Normalization\n",
        "model_5d.add(BatchNormalization())\n",
        "# Adding dropout\n",
        "model_5d.add(Dropout(0.4))\n",
        "\n",
        "# Adding fourth hidden layer\n",
        "model_5d.add(Dense(64, activation='relu', kernel_initializer=he_normal(seed=None)))\n",
        "# Adding Batch Normalization\n",
        "model_5d.add(BatchNormalization())\n",
        "# Adding dropout\n",
        "model_5d.add(Dropout(0.4))\n",
        "\n",
        "# Adding fifth hidden layer\n",
        "model_5d.add(Dense(32, activation='relu', kernel_initializer=he_normal(seed=None)))\n",
        "# Adding Batch Normalization\n",
        "model_5d.add(BatchNormalization())\n",
        "# Adding dropout\n",
        "model_5d.add(Dropout(0.4))\n",
        "\n",
        "# Adding output layer\n",
        "model_5d.add(Dense(output_dim, activation='softmax'))\n",
        "\n",
        "# Printing model Summary\n",
        "print(model_5d.summary())\n",
        "\n",
        "# Compiling the model\n",
        "model_5d.compile(optimizer='adam', loss='categorical_crossentropy', metrics=['accuracy'])\n",
        "\n",
        "# Fitting the data to the model\n",
        "history_5d = model_5d.fit(X_train, y_train, batch_size=batch_size, epochs=nb_epoch, verbose=1, validation_data=(X_test, y_test))"
      ],
      "execution_count": 20,
      "outputs": [
        {
          "output_type": "stream",
          "text": [
            "_________________________________________________________________\n",
            "Layer (type)                 Output Shape              Param #   \n",
            "=================================================================\n",
            "dense_21 (Dense)             (None, 512)               401920    \n",
            "_________________________________________________________________\n",
            "batch_normalization_6 (Batch (None, 512)               2048      \n",
            "_________________________________________________________________\n",
            "dropout_6 (Dropout)          (None, 512)               0         \n",
            "_________________________________________________________________\n",
            "dense_22 (Dense)             (None, 256)               131328    \n",
            "_________________________________________________________________\n",
            "batch_normalization_7 (Batch (None, 256)               1024      \n",
            "_________________________________________________________________\n",
            "dropout_7 (Dropout)          (None, 256)               0         \n",
            "_________________________________________________________________\n",
            "dense_23 (Dense)             (None, 128)               32896     \n",
            "_________________________________________________________________\n",
            "batch_normalization_8 (Batch (None, 128)               512       \n",
            "_________________________________________________________________\n",
            "dropout_8 (Dropout)          (None, 128)               0         \n",
            "_________________________________________________________________\n",
            "dense_24 (Dense)             (None, 64)                8256      \n",
            "_________________________________________________________________\n",
            "batch_normalization_9 (Batch (None, 64)                256       \n",
            "_________________________________________________________________\n",
            "dropout_9 (Dropout)          (None, 64)                0         \n",
            "_________________________________________________________________\n",
            "dense_25 (Dense)             (None, 32)                2080      \n",
            "_________________________________________________________________\n",
            "batch_normalization_10 (Batc (None, 32)                128       \n",
            "_________________________________________________________________\n",
            "dropout_10 (Dropout)         (None, 32)                0         \n",
            "_________________________________________________________________\n",
            "dense_26 (Dense)             (None, 10)                330       \n",
            "=================================================================\n",
            "Total params: 580,778\n",
            "Trainable params: 578,794\n",
            "Non-trainable params: 1,984\n",
            "_________________________________________________________________\n",
            "None\n",
            "Train on 60000 samples, validate on 10000 samples\n",
            "Epoch 1/20\n",
            "60000/60000 [==============================] - 15s 243us/step - loss: 1.0536 - acc: 0.6618 - val_loss: 0.3050 - val_acc: 0.9124\n",
            "Epoch 2/20\n",
            "60000/60000 [==============================] - 13s 212us/step - loss: 0.4741 - acc: 0.8712 - val_loss: 0.2487 - val_acc: 0.9302\n",
            "Epoch 3/20\n",
            "60000/60000 [==============================] - 13s 223us/step - loss: 0.3790 - acc: 0.9002 - val_loss: 0.2027 - val_acc: 0.9430\n",
            "Epoch 4/20\n",
            "60000/60000 [==============================] - 13s 222us/step - loss: 0.3324 - acc: 0.9130 - val_loss: 0.1723 - val_acc: 0.9490\n",
            "Epoch 5/20\n",
            "60000/60000 [==============================] - 13s 221us/step - loss: 0.2972 - acc: 0.9239 - val_loss: 0.1530 - val_acc: 0.9568\n",
            "Epoch 6/20\n",
            "60000/60000 [==============================] - 13s 221us/step - loss: 0.2780 - acc: 0.9283 - val_loss: 0.1594 - val_acc: 0.9556\n",
            "Epoch 7/20\n",
            "60000/60000 [==============================] - 13s 213us/step - loss: 0.2545 - acc: 0.9347 - val_loss: 0.1426 - val_acc: 0.9602\n",
            "Epoch 8/20\n",
            "60000/60000 [==============================] - 13s 221us/step - loss: 0.2501 - acc: 0.9358 - val_loss: 0.1360 - val_acc: 0.9595\n",
            "Epoch 9/20\n",
            "60000/60000 [==============================] - 13s 218us/step - loss: 0.2390 - acc: 0.9388 - val_loss: 0.1300 - val_acc: 0.9611\n",
            "Epoch 10/20\n",
            "60000/60000 [==============================] - 13s 218us/step - loss: 0.2301 - acc: 0.9408 - val_loss: 0.1213 - val_acc: 0.9656\n",
            "Epoch 11/20\n",
            "60000/60000 [==============================] - 13s 217us/step - loss: 0.2175 - acc: 0.9436 - val_loss: 0.1177 - val_acc: 0.9677\n",
            "Epoch 12/20\n",
            "60000/60000 [==============================] - 13s 219us/step - loss: 0.2136 - acc: 0.9445 - val_loss: 0.1163 - val_acc: 0.9678\n",
            "Epoch 13/20\n",
            "60000/60000 [==============================] - 13s 209us/step - loss: 0.2083 - acc: 0.9459 - val_loss: 0.1036 - val_acc: 0.9727\n",
            "Epoch 14/20\n",
            "60000/60000 [==============================] - 13s 214us/step - loss: 0.1997 - acc: 0.9482 - val_loss: 0.1060 - val_acc: 0.9703\n",
            "Epoch 15/20\n",
            "60000/60000 [==============================] - 13s 219us/step - loss: 0.1936 - acc: 0.9494 - val_loss: 0.0975 - val_acc: 0.9743\n",
            "Epoch 16/20\n",
            "60000/60000 [==============================] - 13s 218us/step - loss: 0.1910 - acc: 0.9509 - val_loss: 0.0997 - val_acc: 0.9729\n",
            "Epoch 17/20\n",
            "60000/60000 [==============================] - 13s 218us/step - loss: 0.1883 - acc: 0.9506 - val_loss: 0.0982 - val_acc: 0.9730\n",
            "Epoch 18/20\n",
            "60000/60000 [==============================] - 13s 221us/step - loss: 0.1842 - acc: 0.9521 - val_loss: 0.1073 - val_acc: 0.9694\n",
            "Epoch 19/20\n",
            "60000/60000 [==============================] - 13s 217us/step - loss: 0.1835 - acc: 0.9526 - val_loss: 0.0940 - val_acc: 0.9739\n",
            "Epoch 20/20\n",
            "60000/60000 [==============================] - 13s 218us/step - loss: 0.1801 - acc: 0.9535 - val_loss: 0.0928 - val_acc: 0.9751\n"
          ],
          "name": "stdout"
        }
      ]
    },
    {
      "metadata": {
        "colab_type": "code",
        "id": "oqdoovBv2GBi",
        "outputId": "e729c56c-7b2f-4a26-9c5a-41c0f5b68a1a",
        "colab": {
          "base_uri": "https://localhost:8080/",
          "height": 397
        }
      },
      "cell_type": "code",
      "source": [
        "# Evaluating the model\n",
        "score = model_5d.evaluate(X_test, y_test, verbose=0) \n",
        "print('Test score:', score[0]) \n",
        "print('Test accuracy:', score[1])\n",
        "\n",
        "# Test and train accuracy of the model\n",
        "model_5d_test = score[1]\n",
        "model_5d_train = history_5d.history['acc']\n",
        "\n",
        "# Plotting Train and Test Loss VS no. of epochs\n",
        "# list of epoch numbers\n",
        "x = list(range(1,nb_epoch+1))\n",
        "\n",
        "# Validation loss\n",
        "vy = history_5d.history['val_loss']\n",
        "# Training loss\n",
        "ty = history_5d.history['loss']\n",
        "\n",
        "# Calling the function to draw the plot\n",
        "plt_dynamic(x, vy, ty)"
      ],
      "execution_count": 21,
      "outputs": [
        {
          "output_type": "stream",
          "text": [
            "Test score: 0.09278820200497284\n",
            "Test accuracy: 0.9751\n"
          ],
          "name": "stdout"
        },
        {
          "output_type": "display_data",
          "data": {
            "image/png": "[encoded data removed]",
            "text/plain": [
              "<Figure size 720x360 with 1 Axes>"
            ]
          },
          "metadata": {
            "tags": []
          }
        }
      ]
    },
    {
      "metadata": {
        "colab_type": "text",
        "id": "vGE7FtRQ2bHR"
      },
      "cell_type": "markdown",
      "source": [
        "## CONCLUSION "
      ]
    },
    {
      "metadata": {
        "colab_type": "text",
        "id": "BylMNLj02emr"
      },
      "cell_type": "markdown",
      "source": [
        "## (a). Procedure Followed :"
      ]
    },
    {
      "metadata": {
        "colab_type": "text",
        "id": "gaiE2O_22qug"
      },
      "cell_type": "markdown",
      "source": [
        "1.   Load MNIST dataset\n",
        "2.   Split the dataset into train and test\n",
        "3.   Normalize the train and test data\n",
        "4.   Convert class variable into categorical data vector\n",
        "5.   Implement Softmax classifier with 2 , 3 and 5 hidden layers(512,256,128,64,32 respectively) .\n",
        "6.   Add Dropout(rate 40%) and Batch Normalization to the hidden layers .\n",
        "7.   Draw Categorical Crossentropy Loss VS No.of Epochs plot . \n",
        "\n"
      ]
    },
    {
      "metadata": {
        "colab_type": "text",
        "id": "BGPY5FbI4thE"
      },
      "cell_type": "markdown",
      "source": [
        "## (b) Table (Different models with their train and test accuracies):"
      ]
    },
    {
      "metadata": {
        "colab_type": "code",
        "id": "m7tJO2wI47J8",
        "outputId": "d8a6922b-6b9a-4862-cb2c-238138beb805",
        "colab": {
          "base_uri": "https://localhost:8080/",
          "height": 187
        }
      },
      "cell_type": "code",
      "source": [
        "from prettytable import PrettyTable\n",
        "    \n",
        "x = PrettyTable()\n",
        "\n",
        "x.field_names = [\"MLP_Hidden_Layers\", \"MODEL\", \"Training Accuracy\", \"Test Accuracy\"]\n",
        "\n",
        "x.add_row([2, \"Without Dropout and Batch Normalization\",0.95,0.95])\n",
        "x.add_row([2, \"With Dropout and Batch Normalization\",0.96,0.97])\n",
        "x.add_row([3, \"Without Dropout and Batch Normalization\",0.95,0.95])\n",
        "x.add_row([3,\"With Dropout and Batch Normalization\",0.95,0.95])\n",
        "x.add_row([5, \"Without Dropout and Batch Normalization\",0.96,0.96])\n",
        "x.add_row([5,\"With Dropout and Batch Normalization\",0.95,0.96])\n",
        "\n",
        "print(x)\n"
      ],
      "execution_count": 22,
      "outputs": [
        {
          "output_type": "stream",
          "text": [
            "+-------------------+-----------------------------------------+-------------------+---------------+\n",
            "| MLP_Hidden_Layers |                  MODEL                  | Training Accuracy | Test Accuracy |\n",
            "+-------------------+-----------------------------------------+-------------------+---------------+\n",
            "|         2         | Without Dropout and Batch Normalization |        0.95       |      0.95     |\n",
            "|         2         |   With Dropout and Batch Normalization  |        0.96       |      0.97     |\n",
            "|         3         | Without Dropout and Batch Normalization |        0.95       |      0.95     |\n",
            "|         3         |   With Dropout and Batch Normalization  |        0.95       |      0.95     |\n",
            "|         5         | Without Dropout and Batch Normalization |        0.96       |      0.96     |\n",
            "|         5         |   With Dropout and Batch Normalization  |        0.95       |      0.96     |\n",
            "+-------------------+-----------------------------------------+-------------------+---------------+\n"
          ],
          "name": "stdout"
        }
      ]
    },
    {
      "metadata": {
        "id": "Dwxn-aQF2JQ-",
        "colab_type": "code",
        "colab": {}
      },
      "cell_type": "code",
      "source": [
        ""
      ],
      "execution_count": 0,
      "outputs": []
    }
  ]
}